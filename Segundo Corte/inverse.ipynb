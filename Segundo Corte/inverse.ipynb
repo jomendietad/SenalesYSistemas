{
  "cells": [
    {
      "cell_type": "markdown",
      "metadata": {
        "id": "view-in-github",
        "colab_type": "text"
      },
      "source": [
        "<a href=\"https://colab.research.google.com/github/jomendietad/SenalesYSistemas/blob/main/Segundo%20Corte/inverse.ipynb\" target=\"_parent\"><img src=\"https://colab.research.google.com/assets/colab-badge.svg\" alt=\"Open In Colab\"/></a>"
      ]
    },
    {
      "cell_type": "markdown",
      "metadata": {
        "id": "0sjQJSFfLjvE",
        "nbsphinx": "hidden"
      },
      "source": [
        "# Transformada inversa de Laplace\n",
        "\n",
        "*This Jupyter notebook is part of a [collection of notebooks](../index.ipynb) in the bachelors module Signals and Systems, Communications Engineering, Universität Rostock. Please direct questions and suggestions to [Sascha.Spors@uni-rostock.de](mailto:Sascha.Spors@uni-rostock.de).*"
      ]
    },
    {
      "cell_type": "markdown",
      "metadata": {
        "id": "fNGAID8gLjvK"
      },
      "source": [
        "## Transformada Inversa\n",
        "\n",
        "- La transformada de Laplace también tiene una [transformada inversa](https://en.wikipedia.org/wiki/Inverse_Laplace_transform). La transformada inversa de Laplace convierte una transformada de Laplace compleja $X(s) \\in \\mathbb{C}$ en una señal compleja $x(t) \\in \\mathbb{C}$ con variable independiente real $t \\in \\mathbb{R}$.\n",
        "\n",
        "- Puede demostrarse que la transformada inversa de Laplace $x(t) = \\mathfrak{L}^{-1} \\{ X(s) \\}$ se determina de forma única."
      ]
    },
    {
      "cell_type": "markdown",
      "metadata": {
        "id": "Z4x5oCB5LjvN"
      },
      "source": [
        "### Fórmula Integral\n",
        "\n",
        "Usando los resultados del análisis complejo, la transformada inversa de Laplace viene dada por la siguiente integral de línea compleja:\n",
        "\n",
        "\\begin{equation}\n",
        "x(t) = \\frac{1}{2 \\pi j} \\int_{\\sigma - j \\infty}^{\\sigma + j \\infty} X(s) \\, e^{s t} \\; ds\n",
        "\\end{equation}\n",
        "donde se asume que $X(s) = \\mathfrak{L} \\{ x(t) \\}$  es analítica en su ROC. La notación $\\sigma \\mp j \\infty$ para los límites de integración denota una región arbitraria de integración que descansa en la ROC y para $\\Im \\{s\\} = - \\infty$ a $\\Im \\{s\\} = + \\infty$.\n",
        "\n",
        "La ruta de integración se puede elegir paralela al eje imaginario, pero también son posibles todas las demás rutas en la ROC. Esto resulta del [teorema de integral de Cauchy](https://en.wikipedia.org/wiki/Cauchy's_integral_theorem)."
      ]
    },
    {
      "cell_type": "markdown",
      "metadata": {
        "id": "SLP6ihJSLjvQ"
      },
      "source": [
        "### Transformadas de Laplace racionales\n",
        "\n",
        "El cálculo de la transformada inversa de Laplace mediante la integral puede ser trabajoso.\n",
        "\n",
        "El [teorema del residuo de Cauchy](https://en.wikipedia.org/wiki/Residue_theorem) da una solución práctica para las transformadas de Laplace $X(s) = \\mathfrak{L} \\{ x(t) \\}$ que están dadas como funciones racionales.\n",
        "\n",
        "Establece que el valor de una integral de línea de una función holomórfica sobre un contorno cerrado se da al resumir sus [residuos](https://en.wikipedia.org/wiki/Residue_theorem).\n",
        "\n",
        "El residuo es el valor de la integral de línea para una ruta que encierra una singularidad. En consecuencia, la transformada inversa de Laplace de una transformada de Laplace racional se puede calcular sumando las contribuciones individuales de sus polos."
      ]
    },
    {
      "cell_type": "markdown",
      "metadata": {
        "id": "-jQ2wkx2LjvV"
      },
      "source": [
        "#### Procedimiento básico\n",
        "\n",
        "Una transformada de Laplace  $X(s)$ racional puede ser escrita en términos de polinomios en el numerador y en el denominador:\n",
        "\n",
        "\\begin{equation}\n",
        "X(s) = \\frac{\\sum_{m=0}^{M} \\beta_m s^m}{\\sum_{n=0}^{N} \\alpha_n s^n}\n",
        "\\end{equation}\n",
        "donde $M$, $N$ son el orden de los polinomios del numerador y del denominador y $\\beta_m$, $\\alpha_n$ son sus coeficientes, respectivamente.\n",
        "\n",
        "Se asume que $\\alpha_N \\neq 0$ y que $M \\leq N$. Si $M > N$, $X(s)$  se puede descomponer por [división polinomial](https://en.wikipedia.org/wiki/Polynomial_long_division) dentro de una suma de potencias de $s$ y una función racional cumpliendo que $M \\leq N$.\n",
        "\n",
        "Ahora, la [descomposición en fracciones parciales](https://en.wikipedia.org/wiki/Partial_fraction_decomposition) de $X(s)$ se puede escribir como:\n",
        "\n",
        "\\begin{equation}\n",
        "X(s) = A_0 + \\sum_{\\mu = 1}^{L} \\sum_{\\nu = 1}^{R_\\mu} \\frac{A_{\\mu \\nu}}{(s - s_{\\infty \\mu})^\\nu}\n",
        "\\end{equation}\n",
        "donde $s_{\\infty \\mu}$ es el $\\mu$-th polo único de $X(s)$, $R_\\mu$ su grado y $L$ el número total de polos $\\mu = \\{1, \\dots, L\\}$.\n",
        "\n",
        "Utilizando las transformadas conocidas de Laplace (Ver [tablas de transformadas](https://github.com/amalvarezme/SenalesSistemas/blob/master/4_Transformada_Laplace/Laplace_Table.pdf)), por ejemplo:\n",
        "\n",
        "\\begin{equation}\n",
        "\\mathfrak{L} \\{ t^n e^{-s_0 t} \\epsilon(t) \\} = \\frac{n!}{(s + s_0)^{n+1}} \\qquad \\text{for } \\Re \\{ s \\} > \\Re \\{ - s_0 \\}\n",
        "\\end{equation}\n",
        "\n",
        "y $\\mathfrak{L} \\{ \\delta(t) \\} = 1$, junto con la linealidad de la transformada de Laplace, resulta en una expresión genérica para la transformada inversa $x(t) = \\mathfrak{L}^{-1} \\{ X(s) \\}$\n",
        "\n",
        "\\begin{equation}\n",
        "x(t) = A_0 \\cdot \\delta(t) + \\epsilon(t) \\sum_{\\mu = 1}^{L} e^{s_{\\infty \\mu} t} \\sum_{\\nu = 1}^{R_\\mu} \\frac{A_{\\mu \\nu} \\, t^{\\mu - 1}}{(\\nu -1)!}\n",
        "\\end{equation}\n",
        "\n",
        "Sin embargo, se deben calcular los coeficientes $A_0$ y $A_{\\mu \\nu}$ de la descomposición en fracciones parciales.\n",
        "\n",
        "El coeficiente constante $A_0$ está dado por:\n",
        "\n",
        "\\begin{equation}\n",
        "A_0 = \\lim_{s \\to \\infty} X(s)\n",
        "\\end{equation}\n",
        "\n",
        "Para un polo $s_{\\infty \\mu}$ con grado $R_\\mu = 1$, el coeficiente $A_{\\mu 1}$ es:\n",
        "\n",
        "\\begin{equation}\n",
        "A_{\\mu 1} = \\lim_{s \\to s_{\\infty \\mu}} \\left( X(s) \\cdot (s - s_{\\infty \\mu}) \\right)\n",
        "\\end{equation}\n",
        "\n",
        "Para un polo $s_{\\infty \\mu}$ de grado $R_\\mu > 1$, los coeficientes $A_{\\mu \\nu}$ son:\n",
        "\n",
        "\\begin{equation}\n",
        "A_{\\mu \\nu} = \\frac{1}{(R_\\mu - \\nu)!} \\lim_{s \\to s_{\\infty \\mu}} \\frac{d^{R_\\mu - \\nu}}{d s^{R_\\mu - \\nu}} \\left( X(s) \\cdot (s - s_{\\infty \\mu})^{R_\\mu} \\right)\n",
        "\\end{equation}"
      ]
    },
    {
      "cell_type": "markdown",
      "metadata": {
        "id": "2EnGvFCGLjvX"
      },
      "source": [
        "#### Clasificación de polos\n",
        "\n",
        "- El anterior procedimiento permite calcular la transformada inversa de Laplace $x(t) = \\mathfrak{L}^{-1} \\{ X(s) \\}$ de una transfromada de Laplace racional $X(s)$ de manera mecánica.\n",
        "\n",
        "- Es muy adecuado para una realización algorítmica. Sin embargo, para el cálculo manual puede ser más eficiente clasificar los polos con respecto a su ubicación en el plano $ s $ y sus simetrías.\n",
        "\n",
        "- La clasificación se puede usar para formular una descomposición de fracción parcial modificada que limita la necesidad de una posterior simplificación algebraica de la transformada de Laplace inversa.\n",
        "\n",
        "- Tres clases de polos son comunmente considerados:\n",
        "\n",
        "| Tipo | Diagrama de Polos y Ceros | $X(s)$ | $x(t) = \\mathfrak{L}^{-1} \\{ X(s) \\} \\qquad \\qquad$ |\n",
        "|---|:---:|:---:|:---:|\n",
        "| Un polo complejo | ![Un polo](https://github.com/amalvarezme/SenalesSistemas/blob/master/4_Transformada_Laplace/single_pole.png?raw=1) | $\\frac{n!}{(s + s_0)^{n+1}}$ | $t^n e^{-s_0 t} \\epsilon(t)$ |\n",
        "| Polos imaginarios conjugados| ![Imaginarios conjugados](https://github.com/amalvarezme/SenalesSistemas/blob/master/4_Transformada_Laplace/conjugated_imaginary_poles.png?raw=1) | $\\frac{A s + B}{s^2 + \\omega_0^2}$ | $\\begin{cases} \\sin(\\omega_0 t) \\epsilon(t) \\\\ \\cos(\\omega_0 t) \\epsilon(t) \\end{cases}$ |\n",
        "| Polos complejos conjugados| ![Complejos conjugados](https://github.com/amalvarezme/SenalesSistemas/blob/master/4_Transformada_Laplace/conjugated_complex_poles.png?raw=1) | $\\frac{A s + B}{(s + \\sigma_0)^2 + \\omega_0^2}$ | $\\begin{cases} e^{-\\sigma_0 t} \\sin(\\omega_0 t) \\epsilon(t) \\\\ e^{-\\sigma_0 t} \\cos(\\omega_0 t) \\epsilon(t) \\end{cases}$ |\n",
        "\n",
        "Donde $s_0 \\in \\mathbb{C}$ y $\\omega_0, \\sigma_0 \\in \\mathbb{R}$.\n",
        "\n",
        "- Los coeficientes de expansión $A, B \\in \\mathbb{R}$ se pueden derivar por comparación coeficientes. Si $x(t)$ contiene un seno o un coseno, depende del coeficiente $A$.\n",
        "\n",
        "- Si $A \\neq 0$ luego $x(t)$ contiene un coseno."
      ]
    },
    {
      "cell_type": "markdown",
      "metadata": {
        "id": "K37c2dY8Ljva"
      },
      "source": [
        "#### Ejemplo - Tranformada inversa de una transformada racional de Laplace\n",
        "\n",
        "Determine la transformada inversa $x(t) = \\mathfrak{L}^{-1} \\{ X(s) \\}$ de:\n",
        "\n",
        "\\begin{equation}\n",
        "X(s) = \\frac{2 s^2 + 14 s + 124}{s^3 + 8 s^2 + 46 s + 68} \\qquad \\text{for } \\Re \\{s \\} > -2\n",
        "\\end{equation}\n",
        "\n",
        "Primero se define la función $X(s)$ con `SymPy`."
      ]
    },
    {
      "cell_type": "code",
      "execution_count": 1,
      "metadata": {
        "colab": {
          "base_uri": "https://localhost:8080/",
          "height": 55
        },
        "id": "0UPcCDrFLjvd",
        "outputId": "a0f42eb3-553d-450d-9922-43203b88e10f"
      },
      "outputs": [
        {
          "output_type": "execute_result",
          "data": {
            "text/plain": [
              "     2               \n",
              "  2⋅s  + 14⋅s + 124  \n",
              "─────────────────────\n",
              " 3      2            \n",
              "s  + 8⋅s  + 46⋅s + 68"
            ],
            "text/latex": "$\\displaystyle \\frac{2 s^{2} + 14 s + 124}{s^{3} + 8 s^{2} + 46 s + 68}$"
          },
          "metadata": {},
          "execution_count": 1
        }
      ],
      "source": [
        "%matplotlib inline\n",
        "import sympy as sym\n",
        "sym.init_printing()\n",
        "\n",
        "s = sym.symbols('s', complex=True)\n",
        "t = sym.symbols('t', real=True)\n",
        "\n",
        "X = (2*s**2 + 14*s + 124)/(s**3 + 8 * s**2 + 46*s + 68)\n",
        "X"
      ]
    },
    {
      "cell_type": "markdown",
      "metadata": {
        "id": "WdfiHYoFLjvr"
      },
      "source": [
        "Los polos de $X(s)$ son obtenidos al calcular las raices del polinomio del denominador."
      ]
    },
    {
      "cell_type": "code",
      "execution_count": 2,
      "metadata": {
        "colab": {
          "base_uri": "https://localhost:8080/",
          "height": 39
        },
        "id": "kCEEASs4Ljvu",
        "outputId": "2da2c0be-b295-4a81-dd2f-e5716533be62"
      },
      "outputs": [
        {
          "output_type": "execute_result",
          "data": {
            "text/plain": [
              "{-2: 1, -3 - 5⋅ⅈ: 1, -3 + 5⋅ⅈ: 1}"
            ],
            "text/latex": "$\\displaystyle \\left\\{ -2 : 1, \\  -3 - 5 i : 1, \\  -3 + 5 i : 1\\right\\}$"
          },
          "metadata": {},
          "execution_count": 2
        }
      ],
      "source": [
        "poles = sym.roots(sym.denom(X))\n",
        "poles"
      ]
    },
    {
      "cell_type": "markdown",
      "metadata": {
        "id": "5oNpCh2ILjv4"
      },
      "source": [
        "El resultado es un polo real y un par de polos complejos conjugados. De acuerdo a la clasificación de polos, se escoge el siguiente método de fracciones parciales:\n",
        "\n",
        "\\begin{equation}\n",
        "X_p(s) = \\frac{A}{s + 2} + \\frac{B s + C}{s^2 + 6s + 34}\n",
        "\\end{equation}\n",
        "\n",
        "Los coeficientes $A, B, C \\in \\mathbb{R}$ son obtenidos al igualar los coeficientes con $X(s)$."
      ]
    },
    {
      "cell_type": "code",
      "execution_count": 3,
      "metadata": {
        "colab": {
          "base_uri": "https://localhost:8080/",
          "height": 39
        },
        "id": "juaRecT3Ljv7",
        "outputId": "f1c120ea-7e31-40ab-ae7a-305a83bc5f64"
      },
      "outputs": [
        {
          "output_type": "execute_result",
          "data": {
            "text/plain": [
              "{A: 4, B: -2, C: -6}"
            ],
            "text/latex": "$\\displaystyle \\left\\{ A : 4, \\  B : -2, \\  C : -6\\right\\}$"
          },
          "metadata": {},
          "execution_count": 3
        }
      ],
      "source": [
        "A, B, C = sym.symbols('A B C', real=True)\n",
        "#expresión en fracciones parciales\n",
        "Xp = A / (s+2) + (B*s + C)/(s**2 + 6*s + 34)\n",
        "#resolver coeficientes por igualación de expresiones\n",
        "coeffs = sym.solve(sym.Eq(X, Xp), (A, B, C))\n",
        "coeffs"
      ]
    },
    {
      "cell_type": "markdown",
      "metadata": {
        "id": "_gbLFpRELjwD"
      },
      "source": [
        "Al reemplazar los coeficientes en $X_p(s)$ resulta en:"
      ]
    },
    {
      "cell_type": "code",
      "execution_count": 4,
      "metadata": {
        "colab": {
          "base_uri": "https://localhost:8080/",
          "height": 52
        },
        "id": "Xo6eafUoLjwF",
        "outputId": "130469e6-14ae-47d6-b8c1-f98f39cbc4e1"
      },
      "outputs": [
        {
          "output_type": "execute_result",
          "data": {
            "text/plain": [
              "  -2⋅s - 6        4  \n",
              "───────────── + ─────\n",
              " 2              s + 2\n",
              "s  + 6⋅s + 34        "
            ],
            "text/latex": "$\\displaystyle \\frac{- 2 s - 6}{s^{2} + 6 s + 34} + \\frac{4}{s + 2}$"
          },
          "metadata": {},
          "execution_count": 4
        }
      ],
      "source": [
        "Xp = Xp.subs(coeffs)\n",
        "Xp"
      ]
    },
    {
      "cell_type": "markdown",
      "metadata": {
        "id": "taJmAxsXLjwO"
      },
      "source": [
        "La primera fracción pertenece a los polos complejos conjugados. Al [completar el cuadrado](https://en.wikipedia.org/wiki/Completing_the_square) en el denominador, su inversa puede ser identificada en la tabla de transformadas como una señal coseno que decrece exponencialmente. Realizando la transformada inversa de Laplace con `SymPy`:"
      ]
    },
    {
      "cell_type": "code",
      "execution_count": 5,
      "metadata": {
        "colab": {
          "base_uri": "https://localhost:8080/",
          "height": 39
        },
        "id": "iEHC_rO4LjwT",
        "outputId": "1595b0f7-3ae4-431c-dac8-aaec3b803363"
      },
      "outputs": [
        {
          "output_type": "execute_result",
          "data": {
            "text/plain": [
              "    -3⋅t              \n",
              "-2⋅ℯ    ⋅cos(5⋅t)⋅θ(t)"
            ],
            "text/latex": "$\\displaystyle - 2 e^{- 3 t} \\cos{\\left(5 t \\right)} \\theta\\left(t\\right)$"
          },
          "metadata": {},
          "execution_count": 5
        }
      ],
      "source": [
        "x1 = sym.inverse_laplace_transform(Xp.args[1], s, t) #trasformada inversa del segundo componente\n",
        "x1"
      ]
    },
    {
      "cell_type": "markdown",
      "metadata": {
        "id": "g7FFBVRMLjwk"
      },
      "source": [
        "La segunda fracción corresponde a un polo real de primer orden. Su transformada inversa de Laplace se puede hallar en la tabla de transformadas, la cual es una señal exponencial que decae. Realizando la transformada inversa de Laplace con `SymPy`:"
      ]
    },
    {
      "cell_type": "code",
      "execution_count": 6,
      "metadata": {
        "colab": {
          "base_uri": "https://localhost:8080/",
          "height": 39
        },
        "id": "IQ0iOU7XLjwn",
        "outputId": "f3d64c03-d26e-4a3f-da34-690dc7ac0349"
      },
      "outputs": [
        {
          "output_type": "execute_result",
          "data": {
            "text/plain": [
              "   -2⋅t     \n",
              "4⋅ℯ    ⋅θ(t)"
            ],
            "text/latex": "$\\displaystyle 4 e^{- 2 t} \\theta\\left(t\\right)$"
          },
          "metadata": {},
          "execution_count": 6
        }
      ],
      "source": [
        "x2 = sym.inverse_laplace_transform(Xp.args[0], s, t)#transformada inversa del primer componente\n",
        "x2"
      ]
    },
    {
      "cell_type": "markdown",
      "metadata": {
        "id": "o3wSq1PqLjwv"
      },
      "source": [
        "La transformada inversa de Laplace de $X(s)$ está dada por la suma de las dos partes descritas anteriormente:"
      ]
    },
    {
      "cell_type": "code",
      "execution_count": 7,
      "metadata": {
        "colab": {
          "base_uri": "https://localhost:8080/",
          "height": 39
        },
        "id": "jmfNuGlCLjwx",
        "outputId": "45aa9a13-34d5-4184-9eae-656edaf225e4"
      },
      "outputs": [
        {
          "output_type": "execute_result",
          "data": {
            "text/plain": [
              "   -2⋅t           -3⋅t              \n",
              "4⋅ℯ    ⋅θ(t) - 2⋅ℯ    ⋅cos(5⋅t)⋅θ(t)"
            ],
            "text/latex": "$\\displaystyle 4 e^{- 2 t} \\theta\\left(t\\right) - 2 e^{- 3 t} \\cos{\\left(5 t \\right)} \\theta\\left(t\\right)$"
          },
          "metadata": {},
          "execution_count": 7
        }
      ],
      "source": [
        "x = x1 + x2\n",
        "x"
      ]
    },
    {
      "cell_type": "markdown",
      "metadata": {
        "id": "-zLtWRzoLjw5"
      },
      "source": [
        "Se grafican los resultados:"
      ]
    },
    {
      "cell_type": "code",
      "execution_count": 8,
      "metadata": {
        "colab": {
          "base_uri": "https://localhost:8080/",
          "height": 484
        },
        "id": "tatKDhk1Ljw8",
        "outputId": "d6f58733-4ccb-4584-f816-e2d48d098f13"
      },
      "outputs": [
        {
          "output_type": "display_data",
          "data": {
            "text/plain": [
              "<Figure size 640x480 with 1 Axes>"
            ],
            "image/png": "[encoded data removed]"
          },
          "metadata": {}
        }
      ],
      "source": [
        "sym.plot(x, (t, -0.1, 4), xlabel='$t$', ylabel='$x(t)$');"
      ]
    },
    {
      "cell_type": "markdown",
      "metadata": {
        "id": "itSiYlz_LjxE"
      },
      "source": [
        "El mismo resultado se puede obtener directamente de $X(s)$ usando la transformada inversa de Laplace de `SymPy`:\n",
        "\n",
        "Nota: la operación inversa de simpy puede ser costosa computacionalmente, se sugiere utilizar fracciones parciales para simplificar los cálculos."
      ]
    },
    {
      "cell_type": "code",
      "execution_count": 9,
      "metadata": {
        "colab": {
          "base_uri": "https://localhost:8080/",
          "height": 39
        },
        "id": "5UHRRl8XLjxF",
        "outputId": "660a54ea-2f0e-497e-8f21-b44182450a51"
      },
      "outputs": [
        {
          "output_type": "execute_result",
          "data": {
            "text/plain": [
              "  ⎛   t           ⎞  -3⋅t     \n",
              "2⋅⎝2⋅ℯ  - cos(5⋅t)⎠⋅ℯ    ⋅θ(t)"
            ],
            "text/latex": "$\\displaystyle 2 \\left(2 e^{t} - \\cos{\\left(5 t \\right)}\\right) e^{- 3 t} \\theta\\left(t\\right)$"
          },
          "metadata": {},
          "execution_count": 9
        }
      ],
      "source": [
        "sym.inverse_laplace_transform(X, s, t).simplify() #sin embargo puede ser más costoso computacionalmente"
      ]
    },
    {
      "cell_type": "markdown",
      "metadata": {
        "id": "UrkR89D_LjxN"
      },
      "source": [
        "**Ejercicio**\n",
        "\n",
        "* Obtener la transformada inversa de Laplace de $X(s)$ manualmente.\n",
        "* Obtener la transformada inversa de Laplace de\n",
        "    \\begin{equation}\n",
        "    X(s) = \\frac{1}{(s+1)(s+2)^2} \\qquad \\text{for } \\Re \\{ s \\} \\geq -1\n",
        "    \\end{equation}\n",
        "    manualmente. Comprobar los resultados utilizando `SymPy`."
      ]
    },
    {
      "cell_type": "markdown",
      "source": [
        "# Solución de los Ejercicios\n",
        "\n",
        "## Ejercicio 1: Transformada Inversa de $X(s) = \\frac{2 s^2 + 14 s + 124}{s^3 + 8 s^2 + 46 s + 68}$\n",
        "\n",
        "### Paso 1: Encontrar los polos de X(s)\n",
        "\n",
        "Los polos son las raíces del polinomio del denominador $D(s) = s^3 + 8 s^2 + 46 s + 68$. Al resolver $D(s)=0$, se obtienen los siguientes polos:\n",
        "*   Un polo real simple: $s_1 = -2$\n",
        "*   Un par de polos complejos conjugados: $s_{2,3} = -3 \\pm j5$\n",
        "\n",
        "### Paso 2: Descomposición en Fracciones Parciales\n",
        "\n",
        "Basándonos en la clasificación de los polos, la expansión en fracciones parciales tiene la siguiente forma:\n",
        "\n",
        "$$ X(s) = \\frac{A}{s + 2} + \\frac{Bs + C}{s^2 + 6s + 34} $$\n",
        "\n",
        "Donde el término cuadrático $(s^2 + 6s + 34)$ proviene de multiplicar los factores de los polos complejos conjugados: $(s - (-3+j5))(s - (-3-j5)) = (s+3-j5)(s+3+j5) = (s+3)^2 + 5^2$.\n",
        "\n",
        "### Paso 3: Calcular los coeficientes A, B y C\n",
        "\n",
        "*   **Cálculo de A (residuo del polo simple en s = -2):**\n",
        "\n",
        "    $$ A = \\lim_{s \\to -2} (s+2)X(s) = \\lim_{s \\to -2} \\frac{2 s^2 + 14 s + 124}{s^2 + 6s + 34} $$\n",
        "    $$ A = \\frac{2(-2)^2 + 14(-2) + 124}{(-2)^2 + 6(-2) + 34} = \\frac{8 - 28 + 124}{4 - 12 + 34} = \\frac{104}{26} = 4 $$\n",
        "    > **A = 4**\n",
        "\n",
        "*   **Cálculo de B y C:**\n",
        "    Reagrupamos la expresión y comparamos los numeradores:\n",
        "    $$ 2 s^2 + 14 s + 124 = A(s^2 + 6s + 34) + (Bs + C)(s+2) $$\n",
        "    Sustituimos $A=4$:\n",
        "    $$ 2 s^2 + 14 s + 124 = 4(s^2 + 6s + 34) + Bs^2 + 2Bs + Cs + 2C $$\n",
        "    $$ 2 s^2 + 14 s + 124 = (4+B)s^2 + (24+2B+C)s + (136+2C) $$\n",
        "    Igualamos los coeficientes de las potencias de $s$:\n",
        "    *   Coeficiente de $s^2$: $2 = 4 + B \\implies$ **B = -2**\n",
        "    *   Coeficiente de $s^0$ (constante): $124 = 136 + 2C \\implies 2C = -12 \\implies$ **C = -6**\n",
        "\n",
        "La descomposición final es:\n",
        "$$ X(s) = \\frac{4}{s+2} + \\frac{-2s - 6}{s^2 + 6s + 34} $$\n",
        "\n",
        "### Paso 4: Calcular la Transformada Inversa de Laplace\n",
        "\n",
        "Calculamos la inversa para cada término por separado:\n",
        "\n",
        "*   **Primer término:**\n",
        "  $$ \\mathcal{L}^{-1} \\left\\{ \\frac{4}{s+2} \\right\\} = 4 e^{-2t} \\epsilon(t) $$\n",
        "\n",
        "*   **Segundo término:**\n",
        "  Primero, completamos el cuadrado en el denominador: $s^2 + 6s + 34 = (s+3)^2 + 5^2$.\n",
        "  Luego, manipulamos el numerador para que coincida con las formas de transformadas conocidas de seno y coseno amortiguados:\n",
        "  $$ \\frac{-2s - 6}{(s+3)^2 + 5^2} = \\frac{-2(s+3)}{(s+3)^2 + 5^2} = -2 \\cdot \\frac{s+3}{(s+3)^2 + 5^2} $$\n",
        "  Esta expresión corresponde a la transformada de un coseno amortiguado:\n",
        "  $$ \\mathcal{L}^{-1} \\left\\{ -2 \\cdot \\frac{s+3}{(s+3)^2 + 5^2} \\right\\} = -2 e^{-3t} \\cos(5t) \\epsilon(t) $$\n",
        "\n",
        "### Paso 5: Resultado Final\n",
        "\n",
        "Sumando las dos partes, obtenemos la transformada inversa $x(t)$:\n",
        "\n",
        "$$ x(t) = \\left( 4e^{-2t} - 2e^{-3t}\\cos(5t) \\right) \\epsilon(t) $$\n",
        "\n",
        "---\n",
        "\n",
        "## Ejercicio 2: Transformada Inversa de $X(s) = \\frac{1}{(s+1)(s+2)^2}$\n",
        "\n",
        "### Paso 1: Encontrar los polos de X(s)\n",
        "\n",
        "El denominador ya está factorizado, por lo que los polos son:\n",
        "*   Un polo real simple en $s = -1$.\n",
        "*   Un polo real de orden 2 (repetido) en $s = -2$.\n",
        "\n",
        "### Paso 2: Descomposición en Fracciones Parciales\n",
        "\n",
        "La forma de la expansión para un polo simple y un polo repetido es:\n",
        "$$ X(s) = \\frac{A}{s+1} + \\frac{B}{s+2} + \\frac{C}{(s+2)^2} $$\n",
        "\n",
        "### Paso 3: Calcular los coeficientes A, B y C\n",
        "\n",
        "*   **Cálculo de A (residuo del polo simple en s = -1):**\n",
        "    $$ A = \\lim_{s \\to -1} (s+1)X(s) = \\lim_{s \\to -1} \\frac{1}{(s+2)^2} = \\frac{1}{(-1+2)^2} = 1 $$\n",
        "    > **A = 1**\n",
        "\n",
        "*   **Cálculo de C (residuo del término de mayor orden del polo repetido en s = -2):**\n",
        "    $$ C = \\lim_{s \\to -2} (s+2)^2 X(s) = \\lim_{s \\to -2} \\frac{1}{s+1} = \\frac{1}{-2+1} = -1 $$\n",
        "    > **C = -1**\n",
        "\n",
        "*   **Cálculo de B (residuo del término de menor orden del polo repetido en s = -2):**\n",
        "    $$ B = \\frac{1}{(2-1)!} \\lim_{s \\to -2} \\frac{d}{ds} \\left[ (s+2)^2 X(s) \\right] = \\lim_{s \\to -2} \\frac{d}{ds} \\left( \\frac{1}{s+1} \\right) $$\n",
        "    $$ B = \\lim_{s \\to -2} \\left( \\frac{-1}{(s+1)^2} \\right) = \\frac{-1}{(-2+1)^2} = \\frac{-1}{1} = -1 $$\n",
        "    > **B = -1**\n",
        "\n",
        "La descomposición final es:\n",
        "$$ X(s) = \\frac{1}{s+1} - \\frac{1}{s+2} - \\frac{1}{(s+2)^2} $$\n",
        "\n",
        "### Paso 4: Calcular la Transformada Inversa de Laplace\n",
        "\n",
        "Aplicamos la transformada inversa a cada término:\n",
        "*   $$ \\mathcal{L}^{-1} \\left\\{ \\frac{1}{s+1} \\right\\} = e^{-t}\\epsilon(t) $$\n",
        "*   $$ \\mathcal{L}^{-1} \\left\\{ \\frac{-1}{s+2} \\right\\} = -e^{-2t}\\epsilon(t) $$\n",
        "*   $$ \\mathcal{L}^{-1} \\left\\{ \\frac{-1}{(s+2)^2} \\right\\} = -t e^{-2t} \\epsilon(t) $$\n",
        "\n",
        "### Paso 5: Resultado Final\n",
        "\n",
        "Sumando todos los términos, obtenemos la señal $x(t)$:\n",
        "\n",
        "$$ x(t) = e^{-t}\\epsilon(t) - e^{-2t}\\epsilon(t) - t e^{-2t}\\epsilon(t) $$\n",
        "\n",
        "Factorizando la expresión:\n",
        "\n",
        "$$ x(t) = \\left( e^{-t} - (1+t)e^{-2t} \\right) \\epsilon(t) $$\n",
        "\n",
        "La región de convergencia dada, $\\Re\\{s\\} > -1$, confirma que la señal resultante es causal (multiplicada por $\\epsilon(t)$)."
      ],
      "metadata": {
        "id": "nUrsP1S9UvxY"
      }
    },
    {
      "cell_type": "code",
      "source": [
        "# -----------------\n",
        "#  Configuración\n",
        "# -----------------\n",
        "%matplotlib inline\n",
        "import sympy as sym\n",
        "from IPython.display import display\n",
        "\n",
        "# Habilita la impresión bonita (formato LaTeX) para las expresiones de SymPy\n",
        "sym.init_printing()\n",
        "\n",
        "# Definición de las variables simbólicas\n",
        "s = sym.symbols('s', complex=True)\n",
        "t = sym.symbols('t', real=True)\n",
        "\n",
        "\n",
        "# ==========================================================\n",
        "#  Ejercicio 1: X(s) = (2s^2 + 14s + 124) / (s^3 + 8s^2 + 46s + 68)\n",
        "# ==========================================================\n",
        "print(\"--- Ejercicio 1 ---\")\n",
        "\n",
        "# 1. Definir la función X(s)\n",
        "X1 = (2*s**2 + 14*s + 124)/(s**3 + 8*s**2 + 46*s + 68)\n",
        "print(\"Función X1(s):\")\n",
        "display(X1)\n",
        "\n",
        "# 2. Encontrar los polos (raíces del denominador)\n",
        "poles1 = sym.roots(sym.denom(X1))\n",
        "print(\"\\nPolos de X1(s):\")\n",
        "display(poles1)\n",
        "\n",
        "# 3. Realizar la descomposición en fracciones parciales\n",
        "X1_apart = sym.apart(X1)\n",
        "print(\"\\nDescomposición en fracciones parciales de X1(s):\")\n",
        "display(X1_apart)\n",
        "\n",
        "# 4. Calcular la transformada inversa de Laplace\n",
        "x1_t = sym.inverse_laplace_transform(X1, s, t)\n",
        "print(\"\\nTransformada inversa x1(t):\")\n",
        "display(x1_t)\n",
        "\n",
        "# 5. Graficar el resultado\n",
        "print(\"\\nGráfica de x1(t):\")\n",
        "sym.plot(x1_t, (t, -0.1, 4), xlabel='$t$', ylabel='$x_1(t)$', title='Señal resultante del Ejercicio 1');\n",
        "\n",
        "\n",
        "# ==========================================================\n",
        "#  Ejercicio 2: X(s) = 1 / ((s+1)(s+2)^2)\n",
        "# ==========================================================\n",
        "print(\"\\n\\n--- Ejercicio 2 ---\")\n",
        "\n",
        "# 1. Definir la función X(s)\n",
        "X2 = 1 / ((s+1)*(s+2)**2)\n",
        "print(\"Función X2(s):\")\n",
        "display(X2)\n",
        "\n",
        "# 2. Realizar la descomposición en fracciones parciales\n",
        "X2_apart = sym.apart(X2)\n",
        "print(\"\\nDescomposición en fracciones parciales de X2(s):\")\n",
        "display(X2_apart)\n",
        "\n",
        "# 3. Calcular la transformada inversa de Laplace\n",
        "x2_t = sym.inverse_laplace_transform(X2, s, t)\n",
        "print(\"\\nTransformada inversa x2(t):\")\n",
        "display(x2_t)\n",
        "\n",
        "# 4. Graficar el resultado\n",
        "print(\"\\nGráfica de x2(t):\")\n",
        "sym.plot(x2_t, (t, -0.1, 5), xlabel='$t$', ylabel='$x_2(t)$', title='Señal resultante del Ejercicio 2');"
      ],
      "metadata": {
        "colab": {
          "base_uri": "https://localhost:8080/",
          "height": 1000
        },
        "id": "iZOtHmthVK7R",
        "outputId": "f4e565ce-b02d-44ba-dd4b-a541cdfe1035"
      },
      "execution_count": 10,
      "outputs": [
        {
          "output_type": "stream",
          "name": "stdout",
          "text": [
            "--- Ejercicio 1 ---\n",
            "Función X1(s):\n"
          ]
        },
        {
          "output_type": "display_data",
          "data": {
            "text/plain": [
              "     2               \n",
              "  2⋅s  + 14⋅s + 124  \n",
              "─────────────────────\n",
              " 3      2            \n",
              "s  + 8⋅s  + 46⋅s + 68"
            ],
            "text/latex": "$\\displaystyle \\frac{2 s^{2} + 14 s + 124}{s^{3} + 8 s^{2} + 46 s + 68}$"
          },
          "metadata": {}
        },
        {
          "output_type": "stream",
          "name": "stdout",
          "text": [
            "\n",
            "Polos de X1(s):\n"
          ]
        },
        {
          "output_type": "display_data",
          "data": {
            "text/plain": [
              "{-2: 1, -3 - 5⋅ⅈ: 1, -3 + 5⋅ⅈ: 1}"
            ],
            "text/latex": "$\\displaystyle \\left\\{ -2 : 1, \\  -3 - 5 i : 1, \\  -3 + 5 i : 1\\right\\}$"
          },
          "metadata": {}
        },
        {
          "output_type": "stream",
          "name": "stdout",
          "text": [
            "\n",
            "Descomposición en fracciones parciales de X1(s):\n"
          ]
        },
        {
          "output_type": "display_data",
          "data": {
            "text/plain": [
              "    2⋅(s + 3)       4  \n",
              "- ───────────── + ─────\n",
              "   2              s + 2\n",
              "  s  + 6⋅s + 34        "
            ],
            "text/latex": "$\\displaystyle - \\frac{2 \\left(s + 3\\right)}{s^{2} + 6 s + 34} + \\frac{4}{s + 2}$"
          },
          "metadata": {}
        },
        {
          "output_type": "stream",
          "name": "stdout",
          "text": [
            "\n",
            "Transformada inversa x1(t):\n"
          ]
        },
        {
          "output_type": "display_data",
          "data": {
            "text/plain": [
              "   -2⋅t           -3⋅t              \n",
              "4⋅ℯ    ⋅θ(t) - 2⋅ℯ    ⋅cos(5⋅t)⋅θ(t)"
            ],
            "text/latex": "$\\displaystyle 4 e^{- 2 t} \\theta\\left(t\\right) - 2 e^{- 3 t} \\cos{\\left(5 t \\right)} \\theta\\left(t\\right)$"
          },
          "metadata": {}
        },
        {
          "output_type": "stream",
          "name": "stdout",
          "text": [
            "\n",
            "Gráfica de x1(t):\n"
          ]
        },
        {
          "output_type": "display_data",
          "data": {
            "text/plain": [
              "<Figure size 640x480 with 1 Axes>"
            ],
            "image/png": "[encoded data removed]"
          },
          "metadata": {}
        },
        {
          "output_type": "stream",
          "name": "stdout",
          "text": [
            "\n",
            "\n",
            "--- Ejercicio 2 ---\n",
            "Función X2(s):\n"
          ]
        },
        {
          "output_type": "display_data",
          "data": {
            "text/plain": [
              "       1        \n",
              "────────────────\n",
              "               2\n",
              "(s + 1)⋅(s + 2) "
            ],
            "text/latex": "$\\displaystyle \\frac{1}{\\left(s + 1\\right) \\left(s + 2\\right)^{2}}$"
          },
          "metadata": {}
        },
        {
          "output_type": "stream",
          "name": "stdout",
          "text": [
            "\n",
            "Descomposición en fracciones parciales de X2(s):\n"
          ]
        },
        {
          "output_type": "display_data",
          "data": {
            "text/plain": [
              "    1        1         1  \n",
              "- ───── - ──────── + ─────\n",
              "  s + 2          2   s + 1\n",
              "          (s + 2)         "
            ],
            "text/latex": "$\\displaystyle - \\frac{1}{s + 2} - \\frac{1}{\\left(s + 2\\right)^{2}} + \\frac{1}{s + 1}$"
          },
          "metadata": {}
        },
        {
          "output_type": "stream",
          "name": "stdout",
          "text": [
            "\n",
            "Transformada inversa x2(t):\n"
          ]
        },
        {
          "output_type": "display_data",
          "data": {
            "text/plain": [
              "     -2⋅t         -t         -2⋅t     \n",
              "- t⋅ℯ    ⋅θ(t) + ℯ  ⋅θ(t) - ℯ    ⋅θ(t)"
            ],
            "text/latex": "$\\displaystyle - t e^{- 2 t} \\theta\\left(t\\right) + e^{- t} \\theta\\left(t\\right) - e^{- 2 t} \\theta\\left(t\\right)$"
          },
          "metadata": {}
        },
        {
          "output_type": "stream",
          "name": "stdout",
          "text": [
            "\n",
            "Gráfica de x2(t):\n"
          ]
        },
        {
          "output_type": "display_data",
          "data": {
            "text/plain": [
              "<Figure size 640x480 with 1 Axes>"
            ],
            "image/png": "[encoded data removed]"
          },
          "metadata": {}
        }
      ]
    },
    {
      "cell_type": "markdown",
      "metadata": {
        "id": "ooMqDzvNLjxP",
        "nbsphinx": "hidden"
      },
      "source": [
        "**Copyright**\n",
        "\n",
        "The notebooks are provided as [Open Educational Resource](https://de.wikipedia.org/wiki/Open_Educational_Resources). Feel free to use the notebooks for your own educational purposes. The text is licensed under [Creative Commons Attribution 4.0](https://creativecommons.org/licenses/by/4.0/), the code of the IPython examples under the [MIT license](https://opensource.org/licenses/MIT). Please attribute the work as follows: *Lecture Notes on Signals and Systems* by Sascha Spors."
      ]
    }
  ],
  "metadata": {
    "colab": {
      "provenance": [],
      "include_colab_link": true
    },
    "kernelspec": {
      "display_name": "Python 3",
      "language": "python",
      "name": "python3"
    },
    "language_info": {
      "codemirror_mode": {
        "name": "ipython",
        "version": 3
      },
      "file_extension": ".py",
      "mimetype": "text/x-python",
      "name": "python",
      "nbconvert_exporter": "python",
      "pygments_lexer": "ipython3",
      "version": "3.7.1"
    }
  },
  "nbformat": 4,
  "nbformat_minor": 0
}